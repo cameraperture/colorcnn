{
 "cells": [
  {
   "cell_type": "code",
   "execution_count": 1,
   "id": "bb57567a-9a31-46f1-ad9d-00ba522e4d43",
   "metadata": {},
   "outputs": [
    {
     "name": "stderr",
     "output_type": "stream",
     "text": [
      "/Users/charlotteimbert/nefesi/functions/network_data2.py:1383: UserWarning: The model was *not* loaded. Load it manually.\n",
      "  warnings.warn(\"The model was *not* loaded. Load it manually.\")\n"
     ]
    },
    {
     "ename": "AttributeError",
     "evalue": "'LayerData' object has no attribute 'neuron_features'",
     "output_type": "error",
     "traceback": [
      "\u001b[0;31m---------------------------------------------------------------------------\u001b[0m",
      "\u001b[0;31mAttributeError\u001b[0m                            Traceback (most recent call last)",
      "Cell \u001b[0;32mIn[1], line 13\u001b[0m\n\u001b[1;32m     10\u001b[0m ld    \u001b[38;5;241m=\u001b[39m nd\u001b[38;5;241m.\u001b[39mget_layer_by_name(layer)\n\u001b[1;32m     12\u001b[0m \u001b[38;5;66;03m# ld.neuron_features is a NumPy array of shape (num_neurons, K, K, 3)\u001b[39;00m\n\u001b[0;32m---> 13\u001b[0m \u001b[38;5;28mprint\u001b[39m(layer, \u001b[38;5;124m\"\u001b[39m\u001b[38;5;124mNF shape:\u001b[39m\u001b[38;5;124m\"\u001b[39m, ld\u001b[38;5;241m.\u001b[39mneuron_features\u001b[38;5;241m.\u001b[39mshape)\n\u001b[1;32m     15\u001b[0m \u001b[38;5;66;03m# visualize the first NF\u001b[39;00m\n\u001b[1;32m     16\u001b[0m \u001b[38;5;28;01mimport\u001b[39;00m \u001b[38;5;21;01mmatplotlib\u001b[39;00m\u001b[38;5;21;01m.\u001b[39;00m\u001b[38;5;21;01mpyplot\u001b[39;00m \u001b[38;5;28;01mas\u001b[39;00m \u001b[38;5;21;01mplt\u001b[39;00m\n",
      "\u001b[0;31mAttributeError\u001b[0m: 'LayerData' object has no attribute 'neuron_features'"
     ]
    }
   ],
   "source": [
    "from functions.network_data2 import NetworkData\n",
    "\n",
    "# load the .obj you just saved\n",
    "nd = NetworkData.load_from_disk(\n",
    "    \"/Users/charlotteimbert/Documents/nefesi_outputs/VGG16_subset/withNF.obj\"\n",
    ")\n",
    "\n",
    "# pick a layer\n",
    "layer = nd.get_layers_name()[0]    # e.g. 'features.0'\n",
    "ld    = nd.get_layer_by_name(layer)\n",
    "\n",
    "# ld.neuron_features is a NumPy array of shape (num_neurons, K, K, 3)\n",
    "print(layer, \"NF shape:\", ld.neuron_features.shape)\n",
    "\n",
    "# visualize the first NF\n",
    "import matplotlib.pyplot as plt\n",
    "plt.imshow(ld.neuron_features[0])\n",
    "plt.axis('off')\n",
    "plt.show()"
   ]
  },
  {
   "cell_type": "code",
   "execution_count": null,
   "id": "2307e320-73dc-4830-9f05-f28ddc5e1a63",
   "metadata": {},
   "outputs": [],
   "source": []
  }
 ],
 "metadata": {
  "kernelspec": {
   "display_name": "Python 3 (ipykernel)",
   "language": "python",
   "name": "python3"
  },
  "language_info": {
   "codemirror_mode": {
    "name": "ipython",
    "version": 3
   },
   "file_extension": ".py",
   "mimetype": "text/x-python",
   "name": "python",
   "nbconvert_exporter": "python",
   "pygments_lexer": "ipython3",
   "version": "3.12.4"
  }
 },
 "nbformat": 4,
 "nbformat_minor": 5
}
